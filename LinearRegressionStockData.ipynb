{
 "cells": [
  {
   "cell_type": "markdown",
   "metadata": {},
   "source": [
    "\"\"\"\n",
    "@Author: Samarth BM\n",
    "\n",
    "@Date: 2021-12-04\n",
    "\n",
    "@Last Modified by: Samarth BM\n",
    "\n",
    "@Title : To read the cleaned data from hdfs and perform the linear regression on it to get the stock data prediction.\n",
    "\n",
    "\"\"\""
   ]
  },
  {
   "cell_type": "code",
   "execution_count": 30,
   "metadata": {},
   "outputs": [],
   "source": [
    "from pyspark.sql import *\n",
    "spark = SparkSession.builder.getOrCreate()\n",
    "from pyspark.sql.functions import *"
   ]
  },
  {
   "cell_type": "code",
   "execution_count": 31,
   "metadata": {},
   "outputs": [],
   "source": [
    "stock_data= spark.read.option(\"inferSchema\", \"true\").csv(\"CleanedStockData\", header=True)"
   ]
  },
  {
   "cell_type": "code",
   "execution_count": 32,
   "metadata": {},
   "outputs": [
    {
     "name": "stdout",
     "output_type": "stream",
     "text": [
      "+-------------------+------+------+------+------+--------+\n",
      "|               time|  open|  high|   low| close|  volume|\n",
      "+-------------------+------+------+------+------+--------+\n",
      "|2021-12-01 19:31:00|117.03|117.03|117.03|117.03|   150.0|\n",
      "|2021-12-01 19:03:00|117.43|117.43|117.43|117.43|   250.0|\n",
      "|2021-12-01 18:26:00| 117.1| 117.1| 117.1| 117.1|   438.0|\n",
      "|2021-12-01 18:01:00|117.15|117.15|117.15|117.15|   100.0|\n",
      "|2021-12-01 17:48:00|116.95|116.95|116.95|116.95|   151.0|\n",
      "|2021-12-01 17:17:00|116.93|116.93|116.93|116.93|   600.0|\n",
      "|2021-12-01 17:15:00|116.93|116.93|116.93|116.93|   194.0|\n",
      "|2021-12-01 17:11:00|116.96|116.96|116.96|116.96|   105.0|\n",
      "|2021-12-01 17:10:00|116.99|116.99|116.99|116.99|   116.0|\n",
      "|2021-12-01 17:01:00| 117.0| 117.0| 117.0| 117.0|   305.0|\n",
      "|2021-12-01 16:48:00| 117.2| 117.2| 117.2| 117.2|   100.0|\n",
      "|2021-12-01 16:39:00|117.01|117.01|117.01|117.01|   514.0|\n",
      "|2021-12-01 16:26:00|117.43|117.43|117.43|117.43|   125.0|\n",
      "|2021-12-01 16:17:00| 117.0| 117.0| 117.0| 117.0|   250.0|\n",
      "|2021-12-01 16:04:00|116.92|116.92|116.92|116.92| 16276.0|\n",
      "|2021-12-01 16:03:00|116.92|116.92|116.92|116.92| 34102.0|\n",
      "|2021-12-01 16:02:00|116.92|116.92|116.92|116.92|  1298.0|\n",
      "|2021-12-01 16:01:00|116.92|116.92|116.67|116.67|435965.0|\n",
      "|2021-12-01 16:00:00|117.03|117.07|116.85|116.92|143620.0|\n",
      "|2021-12-01 15:59:00| 117.1|117.11|117.02|117.05| 48469.0|\n",
      "+-------------------+------+------+------+------+--------+\n",
      "only showing top 20 rows\n",
      "\n"
     ]
    }
   ],
   "source": [
    "stock_data.show()"
   ]
  },
  {
   "cell_type": "code",
   "execution_count": 33,
   "metadata": {},
   "outputs": [],
   "source": [
    "from pyspark.ml.feature import VectorAssembler\n",
    "from pyspark.ml.regression import LinearRegression\n",
    "from pyspark.sql.functions import percent_rank\n",
    "from pyspark.sql import Window"
   ]
  },
  {
   "cell_type": "markdown",
   "metadata": {},
   "source": [
    "Storing all the independent variable to a vector and naming it as features"
   ]
  },
  {
   "cell_type": "code",
   "execution_count": 34,
   "metadata": {},
   "outputs": [
    {
     "name": "stdout",
     "output_type": "stream",
     "text": [
      "+----------------------+\n",
      "|features              |\n",
      "+----------------------+\n",
      "|[117.03,117.03,117.03]|\n",
      "|[117.43,117.43,117.43]|\n",
      "|[117.1,117.1,117.1]   |\n",
      "|[117.15,117.15,117.15]|\n",
      "|[116.95,116.95,116.95]|\n",
      "|[116.93,116.93,116.93]|\n",
      "|[116.93,116.93,116.93]|\n",
      "|[116.96,116.96,116.96]|\n",
      "|[116.99,116.99,116.99]|\n",
      "|[117.0,117.0,117.0]   |\n",
      "|[117.2,117.2,117.2]   |\n",
      "|[117.01,117.01,117.01]|\n",
      "|[117.43,117.43,117.43]|\n",
      "|[117.0,117.0,117.0]   |\n",
      "|[116.92,116.92,116.92]|\n",
      "|[116.92,116.92,116.92]|\n",
      "|[116.92,116.92,116.92]|\n",
      "|[116.92,116.92,116.67]|\n",
      "|[117.03,117.07,116.85]|\n",
      "|[117.1,117.11,117.02] |\n",
      "+----------------------+\n",
      "only showing top 20 rows\n",
      "\n"
     ]
    }
   ],
   "source": [
    "assembler=VectorAssembler(inputCols=[\"open\",\"high\",\"low\"],outputCol=\"features\")\n",
    "output=assembler.transform(stock_data)\n",
    "output.select(\"features\").show(truncate=False)"
   ]
  },
  {
   "cell_type": "code",
   "execution_count": 35,
   "metadata": {},
   "outputs": [],
   "source": [
    "final_data=output.select(\"time\",\"features\",\"close\").sort(\"time\",ascending=True)"
   ]
  },
  {
   "cell_type": "code",
   "execution_count": 36,
   "metadata": {},
   "outputs": [
    {
     "name": "stdout",
     "output_type": "stream",
     "text": [
      "+-------------------+--------------------+-------------+\n",
      "|               time|            features|        close|\n",
      "+-------------------+--------------------+-------------+\n",
      "|2021-11-02 04:05:00|[118.987568658,11...|118.987568658|\n",
      "|2021-11-02 04:15:00|[119.100755406,11...|119.100755406|\n",
      "|2021-11-02 06:35:00|[118.657440643,11...|118.657440643|\n",
      "|2021-11-02 06:42:00|[118.657440643,11...|118.657440643|\n",
      "|2021-11-02 06:43:00|[118.657440643,11...|118.657440643|\n",
      "|2021-11-02 06:48:00|[118.629143956,11...|118.629143956|\n",
      "|2021-11-02 07:12:00|[118.846085223,11...|118.846085223|\n",
      "|2021-11-02 07:26:00|[119.034729803,11...|119.034729803|\n",
      "|2021-11-02 07:32:00|[119.034729803,11...|119.298832214|\n",
      "|2021-11-02 07:38:00|[119.24223884,119...| 119.24223884|\n",
      "|2021-11-02 07:41:00|[119.081890948,11...|119.034729803|\n",
      "|2021-11-02 08:00:00|[119.034729803,11...|119.034729803|\n",
      "|2021-11-02 08:01:00|[119.034729803,11...|119.119619864|\n",
      "|2021-11-02 08:09:00|[119.270535527,11...|119.308264443|\n",
      "|2021-11-02 08:18:00|[119.666689145,11...|119.666689145|\n",
      "|2021-11-02 08:21:00|[119.289399985,11...|119.289399985|\n",
      "|2021-11-02 08:25:00|[119.119619864,11...|119.119619864|\n",
      "|2021-11-02 08:30:00|[119.129052093,11...|119.129052093|\n",
      "|2021-11-02 08:34:00|[119.025297574,11...|118.987568658|\n",
      "|2021-11-02 08:53:00|[119.034729803,11...|119.034729803|\n",
      "+-------------------+--------------------+-------------+\n",
      "only showing top 20 rows\n",
      "\n"
     ]
    }
   ],
   "source": [
    "final_data.show()"
   ]
  },
  {
   "cell_type": "markdown",
   "metadata": {},
   "source": [
    "Creating trained data and test data by using random split"
   ]
  },
  {
   "cell_type": "code",
   "execution_count": 37,
   "metadata": {},
   "outputs": [],
   "source": [
    "#trainData,testData=final_data.randomSplit([0.75,0.25])"
   ]
  },
  {
   "cell_type": "code",
   "execution_count": 38,
   "metadata": {},
   "outputs": [],
   "source": [
    "# regressor=LinearRegression(featuresCol=\"features\", labelCol=\"close\")\n",
    "# regressor=regressor.fit(trainData)\n",
    "# print(\"Coefficients: \" + str(regressor.coefficients))\n",
    "# print(\"Intercept: \" + str(regressor.intercept))"
   ]
  },
  {
   "cell_type": "code",
   "execution_count": 39,
   "metadata": {},
   "outputs": [],
   "source": [
    "# predict = regressor.transform(testData)\n",
    "# predict.show(5)"
   ]
  },
  {
   "cell_type": "code",
   "execution_count": 40,
   "metadata": {},
   "outputs": [],
   "source": [
    "# from pyspark.ml.evaluation import RegressionEvaluator\n",
    "# regression_Evaluator = RegressionEvaluator(\n",
    "# predictionCol=\"prediction\",\n",
    "# labelCol=\"close\",\n",
    "# metricName=\"rmse\")\n",
    "# rmse = regression_Evaluator.evaluate(predict)\n",
    "# print(f\"RMSE is {rmse:}\")"
   ]
  },
  {
   "cell_type": "markdown",
   "metadata": {},
   "source": [
    "Creating train data and test data based on rank"
   ]
  },
  {
   "cell_type": "code",
   "execution_count": 41,
   "metadata": {},
   "outputs": [],
   "source": [
    "data = final_data.withColumn(\"rank\",percent_rank().over(Window.partitionBy().orderBy(\"time\")))"
   ]
  },
  {
   "cell_type": "code",
   "execution_count": 42,
   "metadata": {},
   "outputs": [],
   "source": [
    "train_data = data.where(\"rank <= .8\").drop(\"rank\")\n",
    "test_data = data.where(\"rank > .8\").drop(\"rank\")"
   ]
  },
  {
   "cell_type": "code",
   "execution_count": 43,
   "metadata": {},
   "outputs": [
    {
     "name": "stderr",
     "output_type": "stream",
     "text": [
      "21/12/05 18:51:51 WARN WindowExec: No Partition Defined for Window operation! Moving all data to a single partition, this can cause serious performance degradation.\n"
     ]
    },
    {
     "data": {
      "text/plain": [
       "7457"
      ]
     },
     "execution_count": 43,
     "metadata": {},
     "output_type": "execute_result"
    }
   ],
   "source": [
    "train_data.count()"
   ]
  },
  {
   "cell_type": "code",
   "execution_count": 44,
   "metadata": {},
   "outputs": [
    {
     "name": "stderr",
     "output_type": "stream",
     "text": [
      "21/12/05 18:51:52 WARN WindowExec: No Partition Defined for Window operation! Moving all data to a single partition, this can cause serious performance degradation.\n"
     ]
    },
    {
     "data": {
      "text/plain": [
       "1865"
      ]
     },
     "execution_count": 44,
     "metadata": {},
     "output_type": "execute_result"
    }
   ],
   "source": [
    "test_data.count()"
   ]
  },
  {
   "cell_type": "code",
   "execution_count": 45,
   "metadata": {},
   "outputs": [],
   "source": [
    "#test_data.write.parquet(\"TestData\")\n"
   ]
  },
  {
   "cell_type": "markdown",
   "metadata": {},
   "source": [
    "To perform linear regression on test data and get the coefficients and intercept"
   ]
  },
  {
   "cell_type": "code",
   "execution_count": 46,
   "metadata": {},
   "outputs": [
    {
     "name": "stderr",
     "output_type": "stream",
     "text": [
      "21/12/05 18:51:54 WARN WindowExec: No Partition Defined for Window operation! Moving all data to a single partition, this can cause serious performance degradation.\n",
      "21/12/05 18:51:54 WARN WindowExec: No Partition Defined for Window operation! Moving all data to a single partition, this can cause serious performance degradation.\n",
      "21/12/05 18:51:55 WARN Instrumentation: [0938d18e] regParam is zero, which might cause numerical instability and overfitting.\n",
      "21/12/05 18:51:56 WARN WindowExec: No Partition Defined for Window operation! Moving all data to a single partition, this can cause serious performance degradation.\n"
     ]
    },
    {
     "name": "stdout",
     "output_type": "stream",
     "text": [
      "Coefficients: [-0.46548467268012933,0.7584587176498301,0.7068613986940332]\n",
      "Intercept: 0.01795461473737477\n"
     ]
    },
    {
     "name": "stderr",
     "output_type": "stream",
     "text": []
    }
   ],
   "source": [
    "linear_regression=LinearRegression(featuresCol='features',labelCol='close')\n",
    "linear_model=linear_regression.fit(train_data)\n",
    "print(\"Coefficients: \" + str(linear_model.coefficients))\n",
    "print(\"Intercept: \" + str(linear_model.intercept))"
   ]
  },
  {
   "cell_type": "markdown",
   "metadata": {},
   "source": [
    "Using above model on test data to predict the output"
   ]
  },
  {
   "cell_type": "code",
   "execution_count": 47,
   "metadata": {},
   "outputs": [
    {
     "name": "stderr",
     "output_type": "stream",
     "text": [
      "21/12/05 18:51:58 WARN WindowExec: No Partition Defined for Window operation! Moving all data to a single partition, this can cause serious performance degradation.\n"
     ]
    },
    {
     "name": "stdout",
     "output_type": "stream",
     "text": [
      "+-------------------+--------------------+--------+------------------+\n",
      "|               time|            features|   close|        prediction|\n",
      "+-------------------+--------------------+--------+------------------+\n",
      "|2021-11-24 13:00:00|[116.6598,116.69,...|  116.69|116.68146295873287|\n",
      "|2021-11-24 13:01:00|[116.67,116.67,11...|  116.65|116.65461859901134|\n",
      "|2021-11-24 13:02:00|[116.67,116.67,11...|116.6567|116.64401567803094|\n",
      "|2021-11-24 13:03:00|[116.64,116.65,11...|116.6405|116.63220812287791|\n",
      "|2021-11-24 13:04:00|[116.66,116.66,11...| 116.645|116.64815455156817|\n",
      "|2021-11-24 13:05:00|[116.655,116.69,1...|  116.69|116.67344779488067|\n",
      "|2021-11-24 13:06:00|[116.7,116.715,11...|  116.71|116.71012777105987|\n",
      "|2021-11-24 13:07:00|[116.71,116.745,1...|116.7389|116.73529529984951|\n",
      "|2021-11-24 13:08:00|[116.73,116.75,11...|  116.75|116.74391512795803|\n",
      "|2021-11-24 13:09:00|[116.74,116.76,11...| 116.755|116.75391348239468|\n",
      "|2021-11-24 13:10:00|[116.76,116.79,11...|  116.79| 116.7811413477451|\n",
      "|2021-11-24 13:11:00|[116.79,116.79,11...|  116.75|116.76046162427708|\n",
      "|2021-11-24 13:12:00|[116.74,116.74,11...|  116.72|116.70340123810696|\n",
      "|2021-11-24 13:13:00|[116.675,116.69,1...|  116.69|116.68513188496829|\n",
      "|2021-11-24 13:14:00|[116.7,116.73,116...| 116.725|116.70736742385076|\n",
      "|2021-11-24 13:15:00|[116.74,116.74,11...|  116.66|116.68219539614616|\n",
      "|2021-11-24 13:16:00|[116.6641,116.68,...|116.6043|116.60847132000099|\n",
      "|2021-11-24 13:17:00|[116.61,116.614,1...|  116.59|116.59766230726211|\n",
      "|2021-11-24 13:18:00|[116.61,116.65,11...|  116.64|116.63910404907138|\n",
      "|2021-11-24 13:19:00|[116.65,116.6524,...| 116.635|116.63644219106041|\n",
      "+-------------------+--------------------+--------+------------------+\n",
      "only showing top 20 rows\n",
      "\n"
     ]
    },
    {
     "name": "stderr",
     "output_type": "stream",
     "text": []
    }
   ],
   "source": [
    "predictions = linear_model.transform(test_data)\n",
    "predictions.show()\n"
   ]
  },
  {
   "cell_type": "code",
   "execution_count": 54,
   "metadata": {},
   "outputs": [
    {
     "name": "stderr",
     "output_type": "stream",
     "text": [
      "21/12/05 18:56:30 WARN WindowExec: No Partition Defined for Window operation! Moving all data to a single partition, this can cause serious performance degradation.\n",
      "21/12/05 18:56:32 WARN WindowExec: No Partition Defined for Window operation! Moving all data to a single partition, this can cause serious performance degradation.\n"
     ]
    },
    {
     "name": "stdout",
     "output_type": "stream",
     "text": [
      "+-------------------+--------+------------------+\n",
      "|               time|   close|        prediction|\n",
      "+-------------------+--------+------------------+\n",
      "|2021-11-24 13:00:00|  116.69|116.68146295873287|\n",
      "|2021-11-24 13:01:00|  116.65|116.65461859901134|\n",
      "|2021-11-24 13:02:00|116.6567|116.64401567803094|\n",
      "|2021-11-24 13:03:00|116.6405|116.63220812287791|\n",
      "|2021-11-24 13:04:00| 116.645|116.64815455156817|\n",
      "|2021-11-24 13:05:00|  116.69|116.67344779488067|\n",
      "|2021-11-24 13:06:00|  116.71|116.71012777105987|\n",
      "|2021-11-24 13:07:00|116.7389|116.73529529984951|\n",
      "|2021-11-24 13:08:00|  116.75|116.74391512795803|\n",
      "|2021-11-24 13:09:00| 116.755|116.75391348239468|\n",
      "|2021-11-24 13:10:00|  116.79| 116.7811413477451|\n",
      "|2021-11-24 13:11:00|  116.75|116.76046162427708|\n",
      "|2021-11-24 13:12:00|  116.72|116.70340123810696|\n",
      "|2021-11-24 13:13:00|  116.69|116.68513188496829|\n",
      "|2021-11-24 13:14:00| 116.725|116.70736742385076|\n",
      "|2021-11-24 13:15:00|  116.66|116.68219539614616|\n",
      "|2021-11-24 13:16:00|116.6043|116.60847132000099|\n",
      "|2021-11-24 13:17:00|  116.59|116.59766230726211|\n",
      "|2021-11-24 13:18:00|  116.64|116.63910404907138|\n",
      "|2021-11-24 13:19:00| 116.635|116.63644219106041|\n",
      "+-------------------+--------+------------------+\n",
      "only showing top 20 rows\n",
      "\n"
     ]
    },
    {
     "name": "stderr",
     "output_type": "stream",
     "text": []
    }
   ],
   "source": [
    "selected_data=predictions.select(\"time\",\"close\",\"prediction\")\n",
    "selected_data.show()\n",
    "selected_data.write.option(\"header\",True).csv(\"file:///home/samarth/SelectedData\")"
   ]
  },
  {
   "cell_type": "markdown",
   "metadata": {},
   "source": [
    "Using Root mean square error(RMSE) method to find the accuracy of the data"
   ]
  },
  {
   "cell_type": "code",
   "execution_count": 48,
   "metadata": {},
   "outputs": [
    {
     "name": "stderr",
     "output_type": "stream",
     "text": [
      "21/12/05 18:51:59 WARN WindowExec: No Partition Defined for Window operation! Moving all data to a single partition, this can cause serious performance degradation.\n"
     ]
    },
    {
     "name": "stdout",
     "output_type": "stream",
     "text": [
      "RMSE is 0.0479839992428812\n"
     ]
    },
    {
     "name": "stderr",
     "output_type": "stream",
     "text": []
    }
   ],
   "source": [
    "from pyspark.ml.evaluation import RegressionEvaluator\n",
    "regression_Evaluator = RegressionEvaluator(\n",
    "predictionCol=\"prediction\",\n",
    "labelCol=\"close\",\n",
    "metricName=\"rmse\")\n",
    "rmse = regression_Evaluator.evaluate(predictions)\n",
    "print(f\"RMSE is {rmse:}\")"
   ]
  },
  {
   "cell_type": "code",
   "execution_count": 49,
   "metadata": {},
   "outputs": [],
   "source": [
    "#linear_model.save(\"hdfs://localhost:9000/StockDataProject/StockDataModel\")"
   ]
  },
  {
   "cell_type": "code",
   "execution_count": 50,
   "metadata": {},
   "outputs": [
    {
     "name": "stderr",
     "output_type": "stream",
     "text": [
      "21/12/05 18:52:01 WARN WindowExec: No Partition Defined for Window operation! Moving all data to a single partition, this can cause serious performance degradation.\n"
     ]
    },
    {
     "name": "stdout",
     "output_type": "stream",
     "text": [
      "+-------------------+--------------------+--------+------------------+\n",
      "|               time|            features|   close|        prediction|\n",
      "+-------------------+--------------------+--------+------------------+\n",
      "|2021-11-24 13:00:00|[116.6598,116.69,...|  116.69|116.68183314022377|\n",
      "|2021-11-24 13:01:00|[116.67,116.67,11...|  116.65| 116.6572241598078|\n",
      "|2021-11-24 13:02:00|[116.67,116.67,11...|116.6567|116.64635080298864|\n",
      "|2021-11-24 13:03:00|[116.64,116.65,11...|116.6405|116.63394920360098|\n",
      "|2021-11-24 13:04:00|[116.66,116.66,11...| 116.645|116.65084842065444|\n",
      "|2021-11-24 13:05:00|[116.655,116.69,1...|  116.69|116.67322990760411|\n",
      "|2021-11-24 13:06:00|[116.7,116.715,11...|  116.71|116.71181097028789|\n",
      "|2021-11-24 13:07:00|[116.71,116.745,1...|116.7389| 116.7352623978591|\n",
      "|2021-11-24 13:08:00|[116.73,116.75,11...|  116.75| 116.7451743536033|\n",
      "|2021-11-24 13:09:00|[116.74,116.76,11...| 116.755|116.75517454502973|\n",
      "|2021-11-24 13:10:00|[116.76,116.79,11...|  116.79|116.78153810072766|\n",
      "|2021-11-24 13:11:00|[116.79,116.79,11...|  116.75| 116.7627286478325|\n",
      "|2021-11-24 13:12:00|[116.74,116.74,11...|  116.72| 116.7054787861543|\n",
      "|2021-11-24 13:13:00|[116.675,116.69,1...|  116.69|116.68681049172186|\n",
      "|2021-11-24 13:14:00|[116.7,116.73,116...| 116.725|116.70740158830426|\n",
      "|2021-11-24 13:15:00|[116.74,116.74,11...|  116.66|116.68373207251595|\n",
      "|2021-11-24 13:16:00|[116.6641,116.68,...|116.6043|116.60837588596007|\n",
      "|2021-11-24 13:17:00|[116.61,116.614,1...|  116.59|116.59991325847831|\n",
      "|2021-11-24 13:18:00|[116.61,116.65,11...|  116.64|116.63862329263121|\n",
      "|2021-11-24 13:19:00|[116.65,116.6524,...| 116.635|116.63883792529235|\n",
      "+-------------------+--------------------+--------+------------------+\n",
      "only showing top 20 rows\n",
      "\n"
     ]
    },
    {
     "name": "stderr",
     "output_type": "stream",
     "text": []
    }
   ],
   "source": [
    "from pyspark.ml.regression import LinearRegressionModel\n",
    "lrcvModel = LinearRegressionModel.load('StockDataModel')\n",
    "output = lrcvModel.transform(test_data)\n",
    "output.show()"
   ]
  }
 ],
 "metadata": {
  "interpreter": {
   "hash": "916dbcbb3f70747c44a77c7bcd40155683ae19c65e1c03b4aa3499c5328201f1"
  },
  "kernelspec": {
   "display_name": "Python 3.8.10 64-bit",
   "language": "python",
   "name": "python3"
  },
  "language_info": {
   "codemirror_mode": {
    "name": "ipython",
    "version": 3
   },
   "file_extension": ".py",
   "mimetype": "text/x-python",
   "name": "python",
   "nbconvert_exporter": "python",
   "pygments_lexer": "ipython3",
   "version": "3.8.10"
  },
  "orig_nbformat": 4
 },
 "nbformat": 4,
 "nbformat_minor": 2
}
